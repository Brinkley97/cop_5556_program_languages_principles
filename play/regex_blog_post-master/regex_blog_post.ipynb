{
 "cells": [
  {
   "cell_type": "markdown",
   "metadata": {},
   "source": [
    "# Regular Expressions Tutorial"
   ]
  },
  {
   "cell_type": "markdown",
   "metadata": {},
   "source": [
    "### Importing modules"
   ]
  },
  {
   "cell_type": "code",
   "execution_count": 1,
   "metadata": {},
   "outputs": [],
   "source": [
    "import re"
   ]
  },
  {
   "cell_type": "markdown",
   "metadata": {},
   "source": [
    "### Defining sample strings "
   ]
  },
  {
   "cell_type": "code",
   "execution_count": 2,
   "metadata": {},
   "outputs": [
    {
     "name": "stderr",
     "output_type": "stream",
     "text": [
      "<>:14: SyntaxWarning: invalid escape sequence '\\^'\n",
      "<>:14: SyntaxWarning: invalid escape sequence '\\^'\n",
      "/var/folders/fz/zn5r8vq12nv5p23dtlr15sk40000gn/T/ipykernel_63071/642772108.py:14: SyntaxWarning: invalid escape sequence '\\^'\n",
      "  special_characters = \"[\\^$.|?*+()\"\n"
     ]
    }
   ],
   "source": [
    "lowercase_alphabet = \"abcdefghijklmnopqrstuvwxyz\"\n",
    "uppercase_alphabet = lowercase_alphabet.upper()\n",
    "numbers = \"1234567890\"\n",
    "sentence = \"The Quick Brown Fox Jumps Over The Lazy Dog\"\n",
    "website = \"www.medium.com\"\n",
    "phone_numbers = \"\"\"123-456-7890\n",
    "                    987.654.321\n",
    "                    234-567-8901\n",
    "                    654.321.987\n",
    "                    345-678-9012\n",
    "                    321.654.978\n",
    "                    456-789-0123\n",
    "                \"\"\"\n",
    "special_characters = \"[\\^$.|?*+()\""
   ]
  },
  {
   "cell_type": "markdown",
   "metadata": {},
   "source": [
    "### Match explicit character(s)"
   ]
  },
  {
   "cell_type": "code",
   "execution_count": 3,
   "metadata": {},
   "outputs": [
    {
     "data": {
      "text/plain": [
       "['abc']"
      ]
     },
     "execution_count": 3,
     "metadata": {},
     "output_type": "execute_result"
    }
   ],
   "source": [
    "re.findall(\"abc\", lowercase_alphabet)"
   ]
  },
  {
   "cell_type": "code",
   "execution_count": 4,
   "metadata": {},
   "outputs": [
    {
     "data": {
      "text/plain": [
       "['ABC']"
      ]
     },
     "execution_count": 4,
     "metadata": {},
     "output_type": "execute_result"
    }
   ],
   "source": [
    "re.findall(\"ABC\", uppercase_alphabet)"
   ]
  },
  {
   "cell_type": "code",
   "execution_count": 5,
   "metadata": {
    "scrolled": true
   },
   "outputs": [
    {
     "data": {
      "text/plain": [
       "[]"
      ]
     },
     "execution_count": 5,
     "metadata": {},
     "output_type": "execute_result"
    }
   ],
   "source": [
    "re.findall(\"abc\", uppercase_alphabet)"
   ]
  },
  {
   "cell_type": "markdown",
   "metadata": {},
   "source": [
    "### Match with special character(s)"
   ]
  },
  {
   "cell_type": "code",
   "execution_count": 6,
   "metadata": {},
   "outputs": [
    {
     "name": "stderr",
     "output_type": "stream",
     "text": [
      "<>:1: SyntaxWarning: invalid escape sequence '\\.'\n",
      "<>:1: SyntaxWarning: invalid escape sequence '\\.'\n",
      "/var/folders/fz/zn5r8vq12nv5p23dtlr15sk40000gn/T/ipykernel_63071/3701591226.py:1: SyntaxWarning: invalid escape sequence '\\.'\n",
      "  re.findall(\"www\\.medium\\.com\", website)\n"
     ]
    },
    {
     "data": {
      "text/plain": [
       "['www.medium.com']"
      ]
     },
     "execution_count": 6,
     "metadata": {},
     "output_type": "execute_result"
    }
   ],
   "source": [
    "re.findall(\"www\\.medium\\.com\", website)"
   ]
  },
  {
   "cell_type": "code",
   "execution_count": 7,
   "metadata": {},
   "outputs": [
    {
     "name": "stderr",
     "output_type": "stream",
     "text": [
      "<>:1: SyntaxWarning: invalid escape sequence '\\$'\n",
      "<>:1: SyntaxWarning: invalid escape sequence '\\$'\n",
      "/var/folders/fz/zn5r8vq12nv5p23dtlr15sk40000gn/T/ipykernel_63071/1950730586.py:1: SyntaxWarning: invalid escape sequence '\\$'\n",
      "  re.findall(\"\\$\", special_characters)\n"
     ]
    },
    {
     "data": {
      "text/plain": [
       "['$']"
      ]
     },
     "execution_count": 7,
     "metadata": {},
     "output_type": "execute_result"
    }
   ],
   "source": [
    "re.findall(\"\\$\", special_characters)"
   ]
  },
  {
   "cell_type": "code",
   "execution_count": 8,
   "metadata": {},
   "outputs": [
    {
     "name": "stderr",
     "output_type": "stream",
     "text": [
      "<>:1: SyntaxWarning: invalid escape sequence '\\|'\n",
      "<>:1: SyntaxWarning: invalid escape sequence '\\|'\n",
      "/var/folders/fz/zn5r8vq12nv5p23dtlr15sk40000gn/T/ipykernel_63071/2904648601.py:1: SyntaxWarning: invalid escape sequence '\\|'\n",
      "  re.findall(\"\\|\", special_characters)\n"
     ]
    },
    {
     "data": {
      "text/plain": [
       "['|']"
      ]
     },
     "execution_count": 8,
     "metadata": {},
     "output_type": "execute_result"
    }
   ],
   "source": [
    "re.findall(\"\\|\", special_characters)"
   ]
  },
  {
   "cell_type": "markdown",
   "metadata": {},
   "source": [
    "### Match by pattern"
   ]
  },
  {
   "cell_type": "code",
   "execution_count": 9,
   "metadata": {},
   "outputs": [
    {
     "name": "stderr",
     "output_type": "stream",
     "text": [
      "<>:1: SyntaxWarning: invalid escape sequence '\\w'\n",
      "<>:1: SyntaxWarning: invalid escape sequence '\\w'\n",
      "/var/folders/fz/zn5r8vq12nv5p23dtlr15sk40000gn/T/ipykernel_63071/1477949784.py:1: SyntaxWarning: invalid escape sequence '\\w'\n",
      "  re.findall(\"\\w{1,}\", sentence)\n"
     ]
    },
    {
     "data": {
      "text/plain": [
       "['The', 'Quick', 'Brown', 'Fox', 'Jumps', 'Over', 'The', 'Lazy', 'Dog']"
      ]
     },
     "execution_count": 9,
     "metadata": {},
     "output_type": "execute_result"
    }
   ],
   "source": [
    "re.findall(\"\\w{1,}\", sentence)"
   ]
  },
  {
   "cell_type": "code",
   "execution_count": 10,
   "metadata": {},
   "outputs": [
    {
     "name": "stderr",
     "output_type": "stream",
     "text": [
      "<>:1: SyntaxWarning: invalid escape sequence '\\d'\n",
      "<>:1: SyntaxWarning: invalid escape sequence '\\d'\n",
      "/var/folders/fz/zn5r8vq12nv5p23dtlr15sk40000gn/T/ipykernel_63071/2168159344.py:1: SyntaxWarning: invalid escape sequence '\\d'\n",
      "  re.findall(\"\\d{3}\\-\\d{3}\\-\\d{4}\", phone_numbers)\n"
     ]
    },
    {
     "data": {
      "text/plain": [
       "['123-456-7890', '234-567-8901', '345-678-9012', '456-789-0123']"
      ]
     },
     "execution_count": 10,
     "metadata": {},
     "output_type": "execute_result"
    }
   ],
   "source": [
    "re.findall(\"\\d{3}\\-\\d{3}\\-\\d{4}\", phone_numbers)"
   ]
  },
  {
   "cell_type": "markdown",
   "metadata": {},
   "source": [
    "# My Learnings\n",
    "\n",
    "1. TUTORIAL: [Regular Expressions (Regex) in JavaScript - tutorial\n",
    "](https://youtu.be/909NfO1St0A?si=VvIR8eEHzOtCf2vZ)"
   ]
  },
  {
   "cell_type": "code",
   "execution_count": 13,
   "metadata": {},
   "outputs": [
    {
     "data": {
      "text/plain": [
       "['base']"
      ]
     },
     "execution_count": 13,
     "metadata": {},
     "output_type": "execute_result"
    }
   ],
   "source": [
    "text = \"all your base are belong to us\"\n",
    "re.findall(\"base\", text)"
   ]
  },
  {
   "cell_type": "markdown",
   "metadata": {},
   "source": [
    "1. Find text in `re.findall()` \n",
    "2. `^`, word in 1. has to be the start word in input `str`"
   ]
  },
  {
   "cell_type": "code",
   "execution_count": 29,
   "metadata": {},
   "outputs": [
    {
     "name": "stdout",
     "output_type": "stream",
     "text": [
      "[]\n",
      "['base']\n",
      "[]\n",
      "['base']\n"
     ]
    }
   ],
   "source": [
    "text = \"all your base are belong to us\"\n",
    "print(re.findall(\"^base\", text)) # Fails bc \"base\" is not at the start of the string\n",
    "\n",
    "text = \"base are belong to us\"\n",
    "print(re.findall(\"^base\", text)) # Succeeds bc \"base\" is at the start of the string\n",
    "\n",
    "text = \"big abase are belong to us\"\n",
    "print(re.findall(\"^base\", text)) # Fails bc \"base\" is not at the start of the string and \"big\" is not \"base\"\n",
    "\n",
    "text = \"base are belong to usa\"\n",
    "print(re.findall(\"^base\", text)) # Succeeds bc \"base\" is at the start of the string"
   ]
  },
  {
   "cell_type": "markdown",
   "metadata": {},
   "source": [
    "1. Find text in `re.findall()`\n",
    "2. `$`, word in 1. has to be the last word in input `str`"
   ]
  },
  {
   "cell_type": "code",
   "execution_count": 37,
   "metadata": {},
   "outputs": [
    {
     "name": "stdout",
     "output_type": "stream",
     "text": [
      "[]\n",
      "['base']\n",
      "[]\n",
      "[]\n",
      "['base']\n"
     ]
    }
   ],
   "source": [
    "text = \"all your base are belong to us\"\n",
    "print(re.findall(\"base$\", text))\n",
    "\n",
    "text = \"all your base\"\n",
    "print(re.findall(\"base$\", text))\n",
    "\n",
    "text = \"abase are belong to us\"\n",
    "print(re.findall(\"base$\", text))\n",
    "\n",
    "text = \"abase are belongs bases\"\n",
    "print(re.findall(\"base$\", text))\n",
    "\n",
    "text = \"belongs abase are belong base\"\n",
    "print(re.findall(\"base$\", text))"
   ]
  },
  {
   "cell_type": "markdown",
   "metadata": {},
   "source": [
    "1. Find text in `re.findall()`\n",
    "2.  `^...$`, word in 1. has to be only word between these"
   ]
  },
  {
   "cell_type": "code",
   "execution_count": 38,
   "metadata": {},
   "outputs": [
    {
     "name": "stdout",
     "output_type": "stream",
     "text": [
      "[]\n",
      "[]\n",
      "['base']\n",
      "['a']\n"
     ]
    }
   ],
   "source": [
    "text = \"all your base are belong to us\"\n",
    "print(re.findall(\"^base\", text))\n",
    "\n",
    "text = \"basea\"\n",
    "print(re.findall(\"^base$\", text))\n",
    "\n",
    "text = \"base\"\n",
    "print(re.findall(\"^base$\", text))\n",
    "\n",
    "text = \"a\"\n",
    "print(re.findall(\"^a$\", text))"
   ]
  },
  {
   "cell_type": "markdown",
   "metadata": {},
   "source": [
    "1. Find \"name is [any name]\" in the `str`"
   ]
  },
  {
   "cell_type": "code",
   "execution_count": 66,
   "metadata": {},
   "outputs": [
    {
     "name": "stdout",
     "output_type": "stream",
     "text": [
      "['name is d']\n",
      "['name is djb']\n",
      "['name is djb', 'name is ']\n",
      "[]\n",
      "['name is B']\n",
      "['name is BMB']\n",
      "['name is ', 'name is BMB']\n",
      "['name is djb', 'name is BMB']\n"
     ]
    }
   ],
   "source": [
    "text = \"My name is djb and my girlfriend's name is BMB. We are both 27.\"\n",
    "print(re.findall(\"name is [a-z]\", text))\n",
    "print(re.findall(\"name is [a-z]+\", text))\n",
    "print(re.findall(\"name is [a-z]*\", text))\n",
    "print(re.findall(\"both [a-z]\", text))\n"
   ]
  },
  {
   "cell_type": "code",
   "execution_count": 69,
   "metadata": {},
   "outputs": [
    {
     "name": "stdout",
     "output_type": "stream",
     "text": [
      "['name is B']\n",
      "['name is BMB']\n",
      "['name is ', 'name is BMB']\n",
      "['name is djb', 'name is BMB']\n"
     ]
    }
   ],
   "source": [
    "print(re.findall(\"name is [A-Z]\", text))\n",
    "print(re.findall(\"name is [A-Z]+\", text))\n",
    "print(re.findall(\"name is [A-Z]*\", text))\n",
    "print(re.findall(\"name is [a-zA-Z]*\", text))"
   ]
  },
  {
   "cell_type": "markdown",
   "metadata": {},
   "source": [
    "1. Find \"both 27\" in the `str`"
   ]
  },
  {
   "cell_type": "code",
   "execution_count": 68,
   "metadata": {},
   "outputs": [
    {
     "name": "stdout",
     "output_type": "stream",
     "text": [
      "[]\n",
      "['both 2']\n",
      "['both 27']\n",
      "['both 27']\n",
      "['both 2']\n",
      "['both 2']\n",
      "['both 2']\n",
      "[]\n",
      "[]\n"
     ]
    }
   ],
   "source": [
    "print(re.findall(\"name is [0-9]\", text))\n",
    "print(re.findall(\"both [0-9]\", text))\n",
    "print(re.findall(\"both [0-9]+\", text))\n",
    "print(re.findall(\"both [0-9]*\", text))\n",
    "print(re.findall(\"both [22]\", text))\n",
    "print(re.findall(\"both [22]+\", text))\n",
    "print(re.findall(\"both [122]\", text))\n",
    "print(re.findall(\"both [71]\", text))\n",
    "print(re.findall(\"both [17]\", text))"
   ]
  },
  {
   "cell_type": "markdown",
   "metadata": {},
   "source": [
    "1. Find \"name is [any name]\" in the `str`\n",
    "2. Find \"both [any #] in the `str`"
   ]
  },
  {
   "cell_type": "code",
   "execution_count": null,
   "metadata": {},
   "outputs": [],
   "source": []
  },
  {
   "cell_type": "markdown",
   "metadata": {},
   "source": [
    "1. Only 2 characters"
   ]
  },
  {
   "cell_type": "code",
   "execution_count": 77,
   "metadata": {},
   "outputs": [
    {
     "name": "stdout",
     "output_type": "stream",
     "text": [
      "['both 27']\n",
      "['both 27']\n",
      "['both 27']\n"
     ]
    }
   ],
   "source": [
    "text = \"My name is djb and my girlfriend's name is BMB. We are both 27.\"\n",
    "print(re.findall(\"both [0-9]{1,2}\", text))\n",
    "\n",
    "text = \"My name is djb and my girlfriend's name is BMB. We are both 271.\"\n",
    "print(re.findall(\"both [0-9]{0,2}\", text))\n",
    "\n",
    "text = \"My name is djb and my girlfriend's name is BMB. We are both 27848.\"\n",
    "print(re.findall(\"both [0-9]{1,2}\", text))"
   ]
  },
  {
   "cell_type": "markdown",
   "metadata": {},
   "source": [
    "1. Only 3 characters and nothing more end with `$`"
   ]
  },
  {
   "cell_type": "code",
   "execution_count": 84,
   "metadata": {},
   "outputs": [
    {
     "name": "stdout",
     "output_type": "stream",
     "text": [
      "['both 123']\n",
      "[]\n"
     ]
    }
   ],
   "source": [
    "text = \"My name is djb and my girlfriend's name is BMB. We are both 1234.\"\n",
    "print(re.findall(\"both [0-9]{0,3}\", text))\n",
    "\n",
    "text = \"My name is djb and my girlfriend's name is BMB. We are both 1234.\"\n",
    "print(re.findall(\"both [0-9]{1,3}$\", text))"
   ]
  },
  {
   "cell_type": "markdown",
   "metadata": {},
   "source": [
    "1. Test for space with `\\s` as this makes a space"
   ]
  },
  {
   "cell_type": "code",
   "execution_count": 87,
   "metadata": {},
   "outputs": [
    {
     "name": "stdout",
     "output_type": "stream",
     "text": [
      "[]\n",
      "['name is djb']\n"
     ]
    },
    {
     "name": "stderr",
     "output_type": "stream",
     "text": [
      "<>:2: SyntaxWarning: invalid escape sequence '\\s'\n",
      "<>:5: SyntaxWarning: invalid escape sequence '\\s'\n",
      "<>:2: SyntaxWarning: invalid escape sequence '\\s'\n",
      "<>:5: SyntaxWarning: invalid escape sequence '\\s'\n",
      "/var/folders/fz/zn5r8vq12nv5p23dtlr15sk40000gn/T/ipykernel_63071/2310487822.py:2: SyntaxWarning: invalid escape sequence '\\s'\n",
      "  print(re.findall(\"name is\\sdjb\", text))\n",
      "/var/folders/fz/zn5r8vq12nv5p23dtlr15sk40000gn/T/ipykernel_63071/2310487822.py:5: SyntaxWarning: invalid escape sequence '\\s'\n",
      "  print(re.findall(\"name is\\sdjb\", text))\n"
     ]
    }
   ],
   "source": [
    "text = \"My name isdjb and my girlfriend's name is BMB. We are both 1234.\"\n",
    "print(re.findall(\"name is\\sdjb\", text))\n",
    "\n",
    "text = \"My name is djb and my girlfriend's name is BMB. We are both 1234.\"\n",
    "print(re.findall(\"name is\\sdjb\", text))"
   ]
  },
  {
   "cell_type": "markdown",
   "metadata": {},
   "source": [
    "1. Print specific name only"
   ]
  },
  {
   "cell_type": "code",
   "execution_count": 89,
   "metadata": {},
   "outputs": [
    {
     "name": "stdout",
     "output_type": "stream",
     "text": [
      "['djb']\n",
      "['djb', '']\n"
     ]
    }
   ],
   "source": [
    "text = \"My name is djb and my girlfriend's name is BMB. We are both 1234.\"\n",
    "print(re.findall(\"name is ([a-z]+)\", text))\n",
    "\n",
    "text = \"My name is djb and my girlfriend's name is BMB. We are both 1234.\"\n",
    "print(re.findall(\"name is ([a-z]*)\", text))"
   ]
  },
  {
   "cell_type": "code",
   "execution_count": 91,
   "metadata": {},
   "outputs": [
    {
     "name": "stdout",
     "output_type": "stream",
     "text": [
      "['.mp3', '.mp3', '.mp3']\n"
     ]
    },
    {
     "name": "stderr",
     "output_type": "stream",
     "text": [
      "<>:2: SyntaxWarning: invalid escape sequence '\\.'\n",
      "<>:2: SyntaxWarning: invalid escape sequence '\\.'\n",
      "/var/folders/fz/zn5r8vq12nv5p23dtlr15sk40000gn/T/ipykernel_63071/3441663489.py:2: SyntaxWarning: invalid escape sequence '\\.'\n",
      "  print(re.findall(\"\\.mp3\", text))\n"
     ]
    }
   ],
   "source": [
    "text = \"filea.mp3 file_01.mp3 file_02.mp3 test.csv other.txt\"\n",
    "print(re.findall(\"\\.mp3\", text))"
   ]
  },
  {
   "cell_type": "markdown",
   "metadata": {},
   "source": [
    "1. Get file names"
   ]
  },
  {
   "cell_type": "code",
   "execution_count": 92,
   "metadata": {},
   "outputs": [
    {
     "name": "stdout",
     "output_type": "stream",
     "text": [
      "['filea', 'file_01', 'file_02']\n"
     ]
    },
    {
     "name": "stderr",
     "output_type": "stream",
     "text": [
      "<>:2: SyntaxWarning: invalid escape sequence '\\w'\n",
      "<>:2: SyntaxWarning: invalid escape sequence '\\w'\n",
      "/var/folders/fz/zn5r8vq12nv5p23dtlr15sk40000gn/T/ipykernel_63071/4002022612.py:2: SyntaxWarning: invalid escape sequence '\\w'\n",
      "  print(re.findall(\"(\\w+)\\.mp3\", text))\n"
     ]
    }
   ],
   "source": [
    "text = \"filea.mp3 file_01.mp3 file_02.mp3 test.csv other.txt\"\n",
    "print(re.findall(\"(\\w+)\\.mp3\", text))"
   ]
  },
  {
   "cell_type": "code",
   "execution_count": null,
   "metadata": {},
   "outputs": [],
   "source": []
  }
 ],
 "metadata": {
  "kernelspec": {
   "display_name": "program_lanuage",
   "language": "python",
   "name": "python3"
  },
  "language_info": {
   "codemirror_mode": {
    "name": "ipython",
    "version": 3
   },
   "file_extension": ".py",
   "mimetype": "text/x-python",
   "name": "python",
   "nbconvert_exporter": "python",
   "pygments_lexer": "ipython3",
   "version": "3.13.1"
  }
 },
 "nbformat": 4,
 "nbformat_minor": 2
}
